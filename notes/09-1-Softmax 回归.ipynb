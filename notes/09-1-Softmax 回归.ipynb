{
 "cells": [
  {
   "cell_type": "markdown",
   "id": "67ca3505-e9e4-4fe5-811a-cfd7dbfc2abf",
   "metadata": {},
   "source": [
    "# 本节内容摘要"
   ]
  },
  {
   "cell_type": "markdown",
   "id": "a2516b1a-3bbc-4127-8b0e-55209523a282",
   "metadata": {},
   "source": [
    "### 1.回归VS分类：\n",
    "- 什么是分类，什么是回归？\n",
    "> 回归估计一个连续值\n",
    "> \n",
    "> 分类预测一个离散类别\n",
    "> \n",
    "\n",
    "\n",
    "#### 1.1 从回归到多类分类：\n",
    "- 回归和分类的区别是什么？  \n",
    "> 回归：  \n",
    "单连续数值输出  \n",
    "自然区间R   \n",
    "跟真实值的区别作为损失  \n",
    "> \n",
    "> 分类：  \n",
    "通常多个输出  \n",
    "输出i是预测为第i类的置信度  \n",
    ">\n",
    "\n",
    "- 如何从回归过渡到到多类分类？  \n",
    "> 均方损失：  \n",
    "对类别进行一位有效编码  \n",
    "使用均方损失训练  \n",
    "one-hot最大值为预测  \n",
    "> \n",
    "\n",
    "- 如何再过渡到到SoftMax回归？  \n",
    "> 1. 无校验比例  \n",
    "对类别进行一位有效编码  \n",
    "最大值为预测  \n",
    "需要更置信的识别正确类（大余量）----将正确类型和不正确类型拉开距离  \n",
    ">\n",
    "> 2. 校验比例  \n",
    "输出匹配概率（非负，和为1）  \n",
    "概率y和$\\hat{y}$的区别作为损失  \n",
    ">\n",
    "**逻辑回归适用于二分类问题，而 Softmax 回归适用于多类别分类问题**\n",
    "#### 1.2 Softmax和交叉熵损失\n",
    "\n",
    "- 交叉熵用来衡量两个概率的区别$H(p,q)=\\sum_{i} -p_{i}log(q_i)$\n",
    "\n",
    "- 将它作为损失\n",
    "\n",
    "  \n",
    "- 其梯度是真实概率和预测概率的区别\n",
    "\n",
    "\n",
    "> Softmax回归是一个多类分类模型\n",
    ">\n",
    "> 使用Softmax操作子得到每个类的预测置信度\n",
    ">\n",
    "> 使用交叉熵来衡量和预测标号的区别"
   ]
  },
  {
   "cell_type": "markdown",
   "id": "98db7812-a421-47ce-b1f4-56061b0c8cd8",
   "metadata": {},
   "source": [
    "# 讲义"
   ]
  },
  {
   "cell_type": "code",
   "execution_count": 1,
   "id": "5544d0b6-50d7-4d90-852c-582f93b2eb12",
   "metadata": {},
   "outputs": [
    {
     "data": {
      "text/html": [
       "\n",
       "        <iframe\n",
       "            width=\"1100\"\n",
       "            height=\"600\"\n",
       "            src=\"../PPT/part-0_10.pdf\"\n",
       "            frameborder=\"0\"\n",
       "            allowfullscreen\n",
       "            \n",
       "        ></iframe>\n",
       "        "
      ],
      "text/plain": [
       "<IPython.lib.display.IFrame at 0x1071af220>"
      ]
     },
     "metadata": {},
     "output_type": "display_data"
    }
   ],
   "source": [
    "from IPython.display import display, IFrame\n",
    "\n",
    "# 使用IFrame将PDF文件嵌入到Notebook中\n",
    "pdf_path = \"../PPT/part-0_10.pdf\"\n",
    "display(IFrame(pdf_path, width=1100, height=600))"
   ]
  },
  {
   "cell_type": "code",
   "execution_count": null,
   "id": "83c23748-9079-4d0a-b26d-217b359da073",
   "metadata": {},
   "outputs": [],
   "source": []
  }
 ],
 "metadata": {
  "kernelspec": {
   "display_name": "Python 3 (ipykernel)",
   "language": "python",
   "name": "python3"
  },
  "language_info": {
   "codemirror_mode": {
    "name": "ipython",
    "version": 3
   },
   "file_extension": ".py",
   "mimetype": "text/x-python",
   "name": "python",
   "nbconvert_exporter": "python",
   "pygments_lexer": "ipython3",
   "version": "3.8.19"
  }
 },
 "nbformat": 4,
 "nbformat_minor": 5
}
