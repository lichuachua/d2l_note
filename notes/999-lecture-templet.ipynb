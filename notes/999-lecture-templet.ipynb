{
 "cells": [
  {
   "cell_type": "markdown",
   "id": "c07b139c",
   "metadata": {},
   "source": [
    "# 本节内容摘要"
   ]
  },
  {
   "cell_type": "markdown",
   "id": "0c33c128",
   "metadata": {},
   "source": []
  },
  {
   "cell_type": "markdown",
   "id": "465f94e9",
   "metadata": {},
   "source": [
    "# 讲义"
   ]
  },
  {
   "cell_type": "code",
   "execution_count": 1,
   "id": "2463c9c9",
   "metadata": {},
   "outputs": [
    {
     "data": {
      "text/html": [
       "\n",
       "        <iframe\n",
       "            width=\"1100\"\n",
       "            height=\"600\"\n",
       "            src=\"../PPT/part-0_17.pdf\"\n",
       "            frameborder=\"0\"\n",
       "            allowfullscreen\n",
       "            \n",
       "        ></iframe>\n",
       "        "
      ],
      "text/plain": [
       "<IPython.lib.display.IFrame at 0x1095d9640>"
      ]
     },
     "metadata": {},
     "output_type": "display_data"
    }
   ],
   "source": [
    "from IPython.display import display, IFrame\n",
    "\n",
    "# 使用IFrame将PDF文件嵌入到Notebook中\n",
    "pdf_path = \"../PPT/part-0_17.pdf\"\n",
    "display(IFrame(pdf_path, width=1100, height=600))"
   ]
  },
  {
   "cell_type": "code",
   "execution_count": null,
   "id": "85a1f04a",
   "metadata": {},
   "outputs": [],
   "source": []
  }
 ],
 "metadata": {
  "kernelspec": {
   "display_name": "Python 3 (ipykernel)",
   "language": "python",
   "name": "python3"
  },
  "language_info": {
   "codemirror_mode": {
    "name": "ipython",
    "version": 3
   },
   "file_extension": ".py",
   "mimetype": "text/x-python",
   "name": "python",
   "nbconvert_exporter": "python",
   "pygments_lexer": "ipython3",
   "version": "3.8.19"
  }
 },
 "nbformat": 4,
 "nbformat_minor": 5
}
