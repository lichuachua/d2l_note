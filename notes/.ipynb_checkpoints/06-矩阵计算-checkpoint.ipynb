{
 "cells": [
  {
   "cell_type": "markdown",
   "id": "6c80f508-24e2-4714-9631-82ad78ba486a",
   "metadata": {},
   "source": [
    "# 本节内容摘要\n",
    "各种求导运算：  \n",
    "1. 标量导数  \n",
    "2. 亚导数  \n",
    "3. 求导  \n",
    "> 3.1 梯度  \n",
    "> >y是向量，x是标量的话，求导为标量。  \n",
    "y是向量，x是向量的话，求导为矩阵。  \n",
    ">\n",
    ">3.2 标量对向量求导        \n",
    "> > $x_{1}^{2}+2x_{2}^{2}$是一个椭圆，梯度是指向值变化最大的方向。\n",
    "> \n",
    "> 3.3 向量对标量求导  \n",
    "> 3.4 向量对向量求导  \n",
    "> 3.5 扩展矩阵对矩阵求导  "
   ]
  },
  {
   "cell_type": "markdown",
   "id": "f6e563e7-d012-4db1-8832-ccefd629f79d",
   "metadata": {},
   "source": [
    "# 讲义"
   ]
  },
  {
   "cell_type": "code",
   "execution_count": 5,
   "id": "8b92fad2-506d-4764-ac3c-f11d8fd61272",
   "metadata": {},
   "outputs": [
    {
     "data": {
      "text/html": [
       "\n",
       "        <iframe\n",
       "            width=\"1100\"\n",
       "            height=\"600\"\n",
       "            src=\"../PPT/part-0_6.pdf\"\n",
       "            frameborder=\"0\"\n",
       "            allowfullscreen\n",
       "            \n",
       "        ></iframe>\n",
       "        "
      ],
      "text/plain": [
       "<IPython.lib.display.IFrame at 0x10443ac10>"
      ]
     },
     "metadata": {},
     "output_type": "display_data"
    },
    {
     "name": "stdout",
     "output_type": "stream",
     "text": [
      "The history saving thread hit an unexpected error (OperationalError('attempt to write a readonly database')).History will not be written to the database.\n"
     ]
    }
   ],
   "source": [
    "from IPython.display import display, IFrame\n",
    "\n",
    "# 使用IFrame将PDF文件嵌入到Notebook中\n",
    "pdf_path = \"../PPT/part-0_6.pdf\"\n",
    "display(IFrame(pdf_path, width=1100, height=600))\n"
   ]
  },
  {
   "cell_type": "code",
   "execution_count": null,
   "id": "9b837578-a04a-442f-9617-0c75b558d5ae",
   "metadata": {},
   "outputs": [],
   "source": []
  }
 ],
 "metadata": {
  "kernelspec": {
   "display_name": "Python 3 (ipykernel)",
   "language": "python",
   "name": "python3"
  },
  "language_info": {
   "codemirror_mode": {
    "name": "ipython",
    "version": 3
   },
   "file_extension": ".py",
   "mimetype": "text/x-python",
   "name": "python",
   "nbconvert_exporter": "python",
   "pygments_lexer": "ipython3",
   "version": "3.8.19"
  }
 },
 "nbformat": 4,
 "nbformat_minor": 5
}
