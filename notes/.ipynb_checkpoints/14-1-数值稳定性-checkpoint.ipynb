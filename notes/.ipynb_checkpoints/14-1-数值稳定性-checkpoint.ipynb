{
 "cells": [
  {
   "cell_type": "markdown",
   "id": "75bcd2fb",
   "metadata": {},
   "source": [
    "# 本节内容摘要"
   ]
  },
  {
   "cell_type": "markdown",
   "id": "c5ec9e47",
   "metadata": {},
   "source": [
    "数值稳定性是深度学习中比较重要的点，特别是当神经网络变得很深的时候，数值通常很容易变得不稳定。\n",
    "\n",
    "### 1.1 神经网络的梯度\n",
    "\n",
    "**考虑d层神经网络**\n",
    "\n",
    "- 最终输出y的表示：输入x经过若干层(*d*层)的函数作用，最后被损失函数作用得到输出y。\n",
    "\n",
    "**计算损失函数*L*关于第*t*层参数的梯度**\n",
    "\n",
    "- 由链导法则得到乘积公式\n",
    "\n",
    "- 需要进行d-t次**矩阵乘法**（为什么是矩阵乘法？答：由于所有的*h*都是一些**向量**，导数中分子分母均为向量，所以求导得到的是矩阵，维数为[分子维度]x[分母维度]。这也是导致数值稳定性问题的**主要因素**，由于做了太多次的矩阵乘法。\n",
    "\n",
    "### 1.2 数值稳定性的常见两个问题（这样的矩阵乘法带来的问题）\n",
    "\n",
    "**梯度爆炸**\n",
    "\n",
    "**梯度消失**\n",
    "\n",
    "### 1.3 例子：MLP（举例说明两个问题如何产生的）\n",
    "\n",
    "### 1.4 梯度爆炸\n",
    "\n",
    "##### 1.4.1 使用ReLU作为激活函数\n",
    "\n",
    "##### 1.4.2 梯度爆炸问题\n",
    "\n",
    "- 值超出值域（infinity）\n",
    "\n",
    "  - 对于16位浮点数尤为严重（数值区间 [6e-5 , 6e4]），GPU用16位浮点数更快\n",
    "\n",
    "- 对学习率敏感\n",
    "\n",
    "  - 如果学习率太大→大参数值→更大的梯度，如此循环几次，容易导致梯度爆炸\n",
    "\n",
    "  - 如果学习率太小→训练无进展\n",
    "\n",
    "  - 我们可能需要在训练过程中不断调整学习率\n",
    "\n",
    "### 1.5 梯度消失\n",
    "\n",
    "##### 1.5.1 使用Sigmoid作为激活函数\n",
    "\n",
    "- 蓝色曲线为函数值\n",
    "- 黄色曲线为梯度，注意到当输入x值取±6时，此时梯度已经变得很小，由图也可以看出，当输入值稍大或稍小都很容易引起小梯度。\n",
    "\n",
    "所以最终连乘式中diag项乘出来会很小，导致整个梯度很小，产生梯度消失问题。\n",
    "\n",
    "##### 1.5.2 梯度消失的问题\n",
    "\n",
    "- 梯度值变为0\n",
    "  - 对16位浮点数尤为严重\n",
    "- 训练没有进展\n",
    "  - 不管如何选择学习率，由于梯度已经为0了，学习率x梯度=0\n",
    "- 对于底部层尤为严重\n",
    "  - 仅仅顶部层训练得较好。第*t*层导数包含d-t个矩阵乘积，越往底层走，t越小，乘得越多，梯度消失越严重，所以底部层效果更差。\n",
    "  - 无法让神经网络更深。只能把顶部层训练得比较好，底部层跑不动，这和给一个浅的神经网络没有什么区别。\n",
    "\n",
    "\n",
    "### 1.6 总结\n",
    "\n",
    "- 当数值过大或者过小时，会导致数值问题。\n",
    "- 常发生在深度模型中，因为其会对n个数累乘。\n"
   ]
  },
  {
   "cell_type": "markdown",
   "id": "edc6b136",
   "metadata": {},
   "source": [
    "# 讲义"
   ]
  },
  {
   "cell_type": "code",
   "execution_count": 1,
   "id": "68b113df",
   "metadata": {},
   "outputs": [
    {
     "data": {
      "text/html": [
       "\n",
       "        <iframe\n",
       "            width=\"1100\"\n",
       "            height=\"600\"\n",
       "            src=\"../PPT/part-0_18.pdf\"\n",
       "            frameborder=\"0\"\n",
       "            allowfullscreen\n",
       "            \n",
       "        ></iframe>\n",
       "        "
      ],
      "text/plain": [
       "<IPython.lib.display.IFrame at 0x1033c0760>"
      ]
     },
     "metadata": {},
     "output_type": "display_data"
    }
   ],
   "source": [
    "from IPython.display import display, IFrame\n",
    "\n",
    "# 使用IFrame将PDF文件嵌入到Notebook中\n",
    "pdf_path = \"../PPT/part-0_18.pdf\"\n",
    "display(IFrame(pdf_path, width=1100, height=600))"
   ]
  },
  {
   "cell_type": "code",
   "execution_count": null,
   "id": "da2743c2",
   "metadata": {},
   "outputs": [],
   "source": []
  }
 ],
 "metadata": {
  "kernelspec": {
   "display_name": "Python 3 (ipykernel)",
   "language": "python",
   "name": "python3"
  },
  "language_info": {
   "codemirror_mode": {
    "name": "ipython",
    "version": 3
   },
   "file_extension": ".py",
   "mimetype": "text/x-python",
   "name": "python",
   "nbconvert_exporter": "python",
   "pygments_lexer": "ipython3",
   "version": "3.8.19"
  }
 },
 "nbformat": 4,
 "nbformat_minor": 5
}
