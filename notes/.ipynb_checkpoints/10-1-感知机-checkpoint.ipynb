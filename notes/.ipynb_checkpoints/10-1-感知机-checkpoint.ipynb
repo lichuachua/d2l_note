{
 "cells": [
  {
   "cell_type": "markdown",
   "id": "4216859a-44b9-4462-b9e8-66d0d5174024",
   "metadata": {},
   "source": [
    "# 本节内容摘要"
   ]
  },
  {
   "cell_type": "markdown",
   "id": "ff1e6f70-cc6e-4ba6-9e2f-19175e567556",
   "metadata": {},
   "source": [
    "\n",
    "\n",
    "## 感知机\n",
    "\n",
    "### 定义\n",
    "\n",
    "从现在的观点来看，感知机实际上就是神经网络中的一个神经单元。  \n",
    "\n",
    "感知机是解决二分类问题的模型，与线性回归和softmax回归有所区别：线性回归与softmax回归的输出均为实数，softmax回归的输出同时还满足概率公理。  \n",
    "\n",
    "### 训练感知机\n",
    "\n",
    "伪代码\n",
    "\n",
    "这等价于使用特定的损失函数的随机梯度下降并且batch_size=1 \n",
    "\n",
    "\n",
    "### 感知机收敛定理\n",
    "\n",
    "收敛半径\n",
    "\n",
    "### 线性模型的缺陷\n",
    "\n",
    "感知机无法拟合XOR问题————希望模型能预测出XOR分类（分割图片中的一三象限与二四象限）\n",
    "\n",
    "### 总结\n",
    "- 感知是一个二分类模型，是最早的AI模型之一\n",
    "- 它的求解算法等价于使用批量大小为1的梯度下降函数\n",
    "- 它不能拟合XOR函数导致了第一AI寒冬"
   ]
  },
  {
   "cell_type": "markdown",
   "id": "cf6d3a90-35f7-4a59-851c-ba54a680132d",
   "metadata": {},
   "source": [
    "# 讲义"
   ]
  },
  {
   "cell_type": "code",
   "execution_count": 1,
   "id": "18669099-51d7-47d9-8755-97c16eb41662",
   "metadata": {
    "scrolled": true
   },
   "outputs": [
    {
     "data": {
      "text/html": [
       "\n",
       "        <iframe\n",
       "            width=\"1100\"\n",
       "            height=\"600\"\n",
       "            src=\"../PPT/part-0_12.pdf\"\n",
       "            frameborder=\"0\"\n",
       "            allowfullscreen\n",
       "            \n",
       "        ></iframe>\n",
       "        "
      ],
      "text/plain": [
       "<IPython.lib.display.IFrame at 0x105fd39d0>"
      ]
     },
     "metadata": {},
     "output_type": "display_data"
    }
   ],
   "source": [
    "from IPython.display import display, IFrame\n",
    "\n",
    "# 使用IFrame将PDF文件嵌入到Notebook中\n",
    "pdf_path = \"../PPT/part-0_12.pdf\"\n",
    "display(IFrame(pdf_path, width=1100, height=600))"
   ]
  },
  {
   "cell_type": "code",
   "execution_count": null,
   "id": "d2c4de65-0df6-40e8-a37d-8770026ca93e",
   "metadata": {},
   "outputs": [],
   "source": []
  },
  {
   "cell_type": "code",
   "execution_count": null,
   "id": "5ab7ea1e",
   "metadata": {},
   "outputs": [],
   "source": []
  }
 ],
 "metadata": {
  "kernelspec": {
   "display_name": "Python 3 (ipykernel)",
   "language": "python",
   "name": "python3"
  },
  "language_info": {
   "codemirror_mode": {
    "name": "ipython",
    "version": 3
   },
   "file_extension": ".py",
   "mimetype": "text/x-python",
   "name": "python",
   "nbconvert_exporter": "python",
   "pygments_lexer": "ipython3",
   "version": "3.8.19"
  }
 },
 "nbformat": 4,
 "nbformat_minor": 5
}
