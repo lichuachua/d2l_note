{
 "cells": [
  {
   "cell_type": "markdown",
   "id": "67ca3505-e9e4-4fe5-811a-cfd7dbfc2abf",
   "metadata": {},
   "source": [
    "# 本节内容摘要"
   ]
  },
  {
   "cell_type": "markdown",
   "id": "a2516b1a-3bbc-4127-8b0e-55209523a282",
   "metadata": {},
   "source": [
    "\n",
    "### 2.损失函数\n",
    "图像中的x轴为y'，y轴为损失函数的值。\n",
    "#### 2.1 L2 Loss\n",
    "\n",
    "> 蓝色曲线为当y=0时，变换预测值y'所获得的曲线，为二次函数。  \n",
    "  绿色曲线为当y=0时，变换预测值y'所获得的曲线的似然函数，即$1^{-l(y,y')}$，似然函数呈高斯分布。最小化损失函数就是最大化似然函数。  \n",
    "  橙色曲线为损失函数的梯度，梯度是一次函数，所以穿过原点。  \n",
    "> **梯度会随着结果逼近而下降** \n",
    "\n",
    "#### 2.2 L1 Loss\n",
    "\n",
    "> 相对L2 loss，L1 loss的梯度就是距离原点时，梯度也不是特别大，权重的更新也不是特别大。会带来很多稳定性的好处。  \n",
    "  他的缺点是在零点处不可导，并在零点处左右有±1的变化，这个不平滑性导致预测值与真实值靠的比较近的时候，优化到末期的时候，可能会不那么稳定。  \n",
    "> **梯度保持不变，但在0处梯度随机**\n",
    "\n",
    "#### 2.3Huber's Robust Loss\n",
    "\n",
    "> 结合L1 Loss和L2 Loss的优点"
   ]
  },
  {
   "cell_type": "markdown",
   "id": "98db7812-a421-47ce-b1f4-56061b0c8cd8",
   "metadata": {},
   "source": [
    "# 讲义"
   ]
  },
  {
   "cell_type": "code",
   "execution_count": 1,
   "id": "5544d0b6-50d7-4d90-852c-582f93b2eb12",
   "metadata": {},
   "outputs": [
    {
     "data": {
      "text/html": [
       "\n",
       "        <iframe\n",
       "            width=\"1100\"\n",
       "            height=\"600\"\n",
       "            src=\"../PPT/part-0_11.pdf\"\n",
       "            frameborder=\"0\"\n",
       "            allowfullscreen\n",
       "            \n",
       "        ></iframe>\n",
       "        "
      ],
      "text/plain": [
       "<IPython.lib.display.IFrame at 0x105a39eb0>"
      ]
     },
     "metadata": {},
     "output_type": "display_data"
    }
   ],
   "source": [
    "from IPython.display import display, IFrame\n",
    "\n",
    "# 使用IFrame将PDF文件嵌入到Notebook中\n",
    "pdf_path = \"../PPT/part-0_11.pdf\"\n",
    "display(IFrame(pdf_path, width=1100, height=600))\n"
   ]
  },
  {
   "cell_type": "code",
   "execution_count": null,
   "id": "83c23748-9079-4d0a-b26d-217b359da073",
   "metadata": {},
   "outputs": [],
   "source": []
  }
 ],
 "metadata": {
  "kernelspec": {
   "display_name": "Python 3 (ipykernel)",
   "language": "python",
   "name": "python3"
  },
  "language_info": {
   "codemirror_mode": {
    "name": "ipython",
    "version": 3
   },
   "file_extension": ".py",
   "mimetype": "text/x-python",
   "name": "python",
   "nbconvert_exporter": "python",
   "pygments_lexer": "ipython3",
   "version": "3.8.19"
  }
 },
 "nbformat": 4,
 "nbformat_minor": 5
}
