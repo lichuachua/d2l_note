{
 "cells": [
  {
   "cell_type": "markdown",
   "id": "8297d21f",
   "metadata": {},
   "source": [
    "# 本节内容摘要"
   ]
  },
  {
   "cell_type": "markdown",
   "id": "e5ea2531",
   "metadata": {},
   "source": [
    "### 1. 模型选择\n",
    "\n",
    "怎么选超参数?\n",
    "\n",
    "#### 1.1 实例分析：预测谁会偿还贷款\n",
    "\n",
    "- 银行雇你来调查谁会偿还贷款，你得到了100个申请人的信息，其中五个人在3年内违约了。然后你惊讶的发现，**所有的五个人在面试时都穿了蓝色衬衫**。显然，你的模型也发现了这个强信号，这会有什么问题？这当然是不对的\n",
    "\n",
    "\n",
    "#### 1.2 训练误差和泛化误差\n",
    "\n",
    "- 训练误差：模型在训练数据上的误差(不关心)\n",
    "- 泛化误差：模型在新数据上的误差（关心）\n",
    "- 例子：根据模考成绩来预测未来考试分数\n",
    "  - 在过去的考试中表现很好（**训练误差**）不代表未来会好（**泛化误差**）\n",
    "  - 学生A通过背书在模考中拿到很好成绩\n",
    "  - 学生B知道答案后面的原因\n",
    "\n",
    "- **其中，泛化误差是我们所最关心的**\n",
    "\n",
    "#### 1.3 验证数据集和测试数据集\n",
    "\n",
    "- 验证数据集：一个用来评估模型好坏的数据集\n",
    "  - 例如拿出50%的训练数据\n",
    "  - 不要跟训练数据混在一起（常犯错误）\n",
    "- 测试数据集：只用一次的数据集。例如：\n",
    "  - 未来的考试\n",
    "  - 我出价的房子的实际成交价\n",
    "  - 用在kaggle私有排行榜中的数据集\n",
    "\n",
    "- **二者最大的区别就是，验证数据集可以那来用很多次，相当于平时的模拟考，而测试数据集则只能用一次来评估模型的性能，相当于最终的考试。**\n",
    "\n",
    "#### 1.4 K-则交叉验证\n",
    "\n",
    "- 在没有足够多数据时使用（这是常态）\n",
    "- 算法：\n",
    "  - 将训练数据分割k块\n",
    "  - For i = 1，……，k\n",
    "    - 使用第i块作为验证数据集，其余的作为训练数据集\n",
    "  - 报告k个验证集误差的平均\n",
    "- 常用：k = 5或10（几次训练的值）\n",
    "\n",
    "- K-则交叉验证的目的是在没有足够多数据使用时评估模型和超参数的性能，也就是说，**K次训练和验证使用的是相同的超参数和模型**\n",
    "\n",
    "#### 1.5 总结\n",
    "\n",
    "- 训练数据集：训练模型参数\n",
    "- 验证数据集：选择模型超参数\n",
    "- 非大数据集上通常使用k-则交叉验证"
   ]
  },
  {
   "cell_type": "markdown",
   "id": "e4392ece",
   "metadata": {},
   "source": [
    "# 讲义"
   ]
  },
  {
   "cell_type": "code",
   "execution_count": 1,
   "id": "ecfbe4c5",
   "metadata": {
    "scrolled": true
   },
   "outputs": [
    {
     "data": {
      "text/html": [
       "\n",
       "        <iframe\n",
       "            width=\"1100\"\n",
       "            height=\"600\"\n",
       "            src=\"../PPT/part-0_14.pdf\"\n",
       "            frameborder=\"0\"\n",
       "            allowfullscreen\n",
       "            \n",
       "        ></iframe>\n",
       "        "
      ],
      "text/plain": [
       "<IPython.lib.display.IFrame at 0x106553a60>"
      ]
     },
     "metadata": {},
     "output_type": "display_data"
    }
   ],
   "source": [
    "from IPython.display import display, IFrame\n",
    "\n",
    "# 使用IFrame将PDF文件嵌入到Notebook中\n",
    "pdf_path = \"../PPT/part-0_14.pdf\"\n",
    "display(IFrame(pdf_path, width=1100, height=600))"
   ]
  },
  {
   "cell_type": "code",
   "execution_count": null,
   "id": "2daf6dfb",
   "metadata": {},
   "outputs": [],
   "source": []
  }
 ],
 "metadata": {
  "kernelspec": {
   "display_name": "Python 3 (ipykernel)",
   "language": "python",
   "name": "python3"
  },
  "language_info": {
   "codemirror_mode": {
    "name": "ipython",
    "version": 3
   },
   "file_extension": ".py",
   "mimetype": "text/x-python",
   "name": "python",
   "nbconvert_exporter": "python",
   "pygments_lexer": "ipython3",
   "version": "3.8.19"
  }
 },
 "nbformat": 4,
 "nbformat_minor": 5
}
