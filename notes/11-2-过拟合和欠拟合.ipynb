{
 "cells": [
  {
   "cell_type": "markdown",
   "id": "c154ca07",
   "metadata": {},
   "source": [
    "# 本节内容摘要"
   ]
  },
  {
   "cell_type": "markdown",
   "id": "ffed45d2",
   "metadata": {},
   "source": [
    "### 2. 过拟合和欠拟合\n",
    "\n",
    "#### 2.1 什么是过拟合和欠拟合？\n",
    "\n",
    "| 模型容量\\数据 | 简单   |  复杂  |\n",
    "| ------------- | ------ | :----: |\n",
    "| 低            | 正常   | 欠拟合 |\n",
    "| 高            | 过拟合 |  正常  |\n",
    "\n",
    "- tips：模型容量即模型的复杂度，也代表了模型拟合各种函数的能力\n",
    "\n",
    "#### 2.2 模型容量的定义\n",
    "\n",
    "- 拟合各种函数的能力\n",
    "- 低容量的模型难以拟合训练数据\n",
    "- 高容量的模型可以记住所有的训练数据\n",
    "\n",
    "\n",
    "- 显然，模型容量太低或太高都不好。太低（对应第一种）过于简单，模型分类效果差，太高（对应第二种）则过于复杂，把噪声全部都拟合住了，这是我们所不希望的。\n",
    "\n",
    "#### 2.3 模型容量的影响\n",
    "\n",
    "\n",
    "- 我们的核心任务就是把泛化误差往下降\n",
    "\n",
    "#### 2.4 估计模型容量\n",
    "\n",
    "- 难以在不同的种类算法之间比较\n",
    "  - 例如树模型和神经网络\n",
    "- 给定一个模型种类，将有两个主要因素\n",
    "  - 参数的个数（个数越多，容量越大）\n",
    "  - 参数的选择范围（范围越大，容量越大）\n",
    "\n",
    "\n",
    "#### 2.5 VC维\n",
    "\n",
    "VC维是统计学习理论的一个核心思想，这里大致了解就行，因为很难计算之后学习的模型（如CNN,RNN)的VC维，故并不经常用\n",
    "\n",
    "- 定义：对于一个分类模型，VC维等于一个最大的数据集的大小，不管如何给定标号，都存在一个模型对它进行完美分类。即存在H个样本，模型能把H个样本的2^H种标号方式打散的H的最大值。\n",
    "- 例子：线性分类器的VC维\n",
    "  - 2维输入的感知机，VC维=3（对于三个点的任意标号都能分类），但不是4个(XOR）\n",
    "\n",
    "- 支持N维输入的感知机的VC维是N+1\n",
    "- 一些多层感知机的VC维是O(N log₂N)\n",
    "\n",
    "#### 2.6 VC维的用处\n",
    "\n",
    "- 提供为什么一个模型好的理论依据\n",
    "  - 它可以衡量训练误差和泛化误差之间的间隔\n",
    "- 但深度学习中很少使用\n",
    "  - 衡量不是很准确\n",
    "  - 计算深度学习模型的VC维很困难\n",
    "\n",
    "#### 2.7 数据复杂度\n",
    "\n",
    "- 多个重要因素\n",
    "  - 样本的元素个数\n",
    "  - 每个样本的元素个数\n",
    "  - 时间、空间结构\n",
    "  - 多样性\n",
    "\n",
    "#### 2.8 总结\n",
    "\n",
    "- 模型容量需要匹配数据复杂度，否则可能导致欠拟合和过拟合\n",
    "- 统计机器学习提供数学工具来衡量模型复杂度\n",
    "- 实际中一般考观察训练误差和验证误差"
   ]
  },
  {
   "cell_type": "markdown",
   "id": "a8575b37",
   "metadata": {},
   "source": [
    "# 讲义"
   ]
  },
  {
   "cell_type": "code",
   "execution_count": 1,
   "id": "7f3c1727",
   "metadata": {
    "scrolled": true
   },
   "outputs": [
    {
     "data": {
      "text/html": [
       "\n",
       "        <iframe\n",
       "            width=\"1100\"\n",
       "            height=\"600\"\n",
       "            src=\"../PPT/part-0_15.pdf\"\n",
       "            frameborder=\"0\"\n",
       "            allowfullscreen\n",
       "            \n",
       "        ></iframe>\n",
       "        "
      ],
      "text/plain": [
       "<IPython.lib.display.IFrame at 0x1035730d0>"
      ]
     },
     "metadata": {},
     "output_type": "display_data"
    }
   ],
   "source": [
    "from IPython.display import display, IFrame\n",
    "\n",
    "# 使用IFrame将PDF文件嵌入到Notebook中\n",
    "pdf_path = \"../PPT/part-0_15.pdf\"\n",
    "display(IFrame(pdf_path, width=1100, height=600))"
   ]
  },
  {
   "cell_type": "code",
   "execution_count": null,
   "id": "9fdb7eb0",
   "metadata": {},
   "outputs": [],
   "source": []
  }
 ],
 "metadata": {
  "kernelspec": {
   "display_name": "Python 3 (ipykernel)",
   "language": "python",
   "name": "python3"
  },
  "language_info": {
   "codemirror_mode": {
    "name": "ipython",
    "version": 3
   },
   "file_extension": ".py",
   "mimetype": "text/x-python",
   "name": "python",
   "nbconvert_exporter": "python",
   "pygments_lexer": "ipython3",
   "version": "3.8.19"
  }
 },
 "nbformat": 4,
 "nbformat_minor": 5
}
