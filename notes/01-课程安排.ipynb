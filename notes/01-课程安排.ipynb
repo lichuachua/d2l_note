{
 "cells": [
  {
   "cell_type": "markdown",
   "id": "11584022",
   "metadata": {},
   "source": [
    "# 本节内容摘要\n",
    "课程目标、内容和基本要求"
   ]
  },
  {
   "cell_type": "markdown",
   "id": "6c0c7db4-7fa0-4e15-87bd-7a311f9d3cbb",
   "metadata": {},
   "source": [
    "# 讲义"
   ]
  },
  {
   "cell_type": "code",
   "execution_count": 2,
   "id": "e4ef2507-92f7-4603-a083-a4201dc635a9",
   "metadata": {},
   "outputs": [
    {
     "data": {
      "text/html": [
       "\n",
       "        <iframe\n",
       "            width=\"1100\"\n",
       "            height=\"600\"\n",
       "            src=\"../PPT/part-0_1.pdf\"\n",
       "            frameborder=\"0\"\n",
       "            allowfullscreen\n",
       "            \n",
       "        ></iframe>\n",
       "        "
      ],
      "text/plain": [
       "<IPython.lib.display.IFrame at 0x110139850>"
      ]
     },
     "metadata": {},
     "output_type": "display_data"
    }
   ],
   "source": [
    "from IPython.display import display, IFrame\n",
    "pdf_path = \"../PPT/part-0_1.pdf\"\n",
    "display(IFrame(pdf_path, width=1100, height=600))\n"
   ]
  },
  {
   "cell_type": "markdown",
   "id": "81324e09",
   "metadata": {},
   "source": [
    "# 学到什么\n",
    "What：深度学习有哪些技术，以及哪些技术可以帮你解决问题  \n",
    "How：如何实现（产品 or paper）和调参（精度or速度）  \n",
    "Why：背后的原因（直觉、数学）"
   ]
  },
  {
   "cell_type": "markdown",
   "id": "2a1282e0",
   "metadata": {},
   "source": [
    "# 基本要求\n",
    "AI相关从业人员（产品经理等）：掌握What，知道名词，能干什么  \n",
    "数据科学家、工程师：掌握What、How，手要快，能出活  \n",
    "研究员、学生：掌握What、How、Why，除了知道有什么和怎么做，还要知道为什么，思考背后的原因，做出新的突破"
   ]
  },
  {
   "cell_type": "code",
   "execution_count": null,
   "id": "b602f600",
   "metadata": {},
   "outputs": [],
   "source": []
  }
 ],
 "metadata": {
  "kernelspec": {
   "display_name": "Python 3 (ipykernel)",
   "language": "python",
   "name": "python3"
  },
  "language_info": {
   "codemirror_mode": {
    "name": "ipython",
    "version": 3
   },
   "file_extension": ".py",
   "mimetype": "text/x-python",
   "name": "python",
   "nbconvert_exporter": "python",
   "pygments_lexer": "ipython3",
   "version": "3.8.19"
  }
 },
 "nbformat": 4,
 "nbformat_minor": 5
}
