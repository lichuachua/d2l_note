{
 "cells": [
  {
   "cell_type": "markdown",
   "id": "4216859a-44b9-4462-b9e8-66d0d5174024",
   "metadata": {},
   "source": [
    "# 本节内容摘要"
   ]
  },
  {
   "cell_type": "markdown",
   "id": "ff1e6f70-cc6e-4ba6-9e2f-19175e567556",
   "metadata": {},
   "source": [
    "## 多层感知机\n",
    "\n",
    "### 学习XOR  \n",
    "解决上节的XOR问题  \n",
    "PPT中：\n",
    "- 先用蓝色的线分，再用黄色的线分。\n",
    "- 之后再对蓝色的线和黄色的线分出来的结果做乘法。\n",
    "- 即可解决\n",
    "\n",
    "### 单隐藏层\n",
    "\n",
    "#### 为什么需要非线性激活函数？ \n",
    "\n",
    "### 激活函数分类：  \n",
    "#### Sigmoid 函数\n",
    "\n",
    "#### Tanh函数\n",
    "\n",
    "#### ReLU\n",
    "- ReLU的好处在于不需要执行指数运算。\n",
    "- 在CPU上一次指数运算相当于上百次乘法运算。\n",
    "\n",
    "### 多类分类\n",
    "\n",
    "### 多隐藏层\n",
    "\n",
    "\n",
    "### 总结\n",
    "- 多层感知机使用隐藏层和激活函数来得到非线性模型\n",
    "\n",
    "- 常用激活函数：Sigmoid，Tanh，ReLU\n",
    "\n",
    "- 使用softmax进行多分类（和之前没区别，只是加入了隐藏层）\n",
    "\n",
    "- 隐藏层数、大小为超参数"
   ]
  },
  {
   "cell_type": "markdown",
   "id": "cf6d3a90-35f7-4a59-851c-ba54a680132d",
   "metadata": {},
   "source": [
    "# 讲义"
   ]
  },
  {
   "cell_type": "code",
   "execution_count": 1,
   "id": "18669099-51d7-47d9-8755-97c16eb41662",
   "metadata": {},
   "outputs": [
    {
     "data": {
      "text/html": [
       "\n",
       "        <iframe\n",
       "            width=\"1100\"\n",
       "            height=\"600\"\n",
       "            src=\"../PPT/part-0_13.pdf\"\n",
       "            frameborder=\"0\"\n",
       "            allowfullscreen\n",
       "            \n",
       "        ></iframe>\n",
       "        "
      ],
      "text/plain": [
       "<IPython.lib.display.IFrame at 0x108ddb490>"
      ]
     },
     "metadata": {},
     "output_type": "display_data"
    }
   ],
   "source": [
    "from IPython.display import display, IFrame\n",
    "\n",
    "# 使用IFrame将PDF文件嵌入到Notebook中\n",
    "pdf_path = \"../PPT/part-0_13.pdf\"\n",
    "display(IFrame(pdf_path, width=1100, height=600))"
   ]
  },
  {
   "cell_type": "code",
   "execution_count": null,
   "id": "d2c4de65-0df6-40e8-a37d-8770026ca93e",
   "metadata": {},
   "outputs": [],
   "source": []
  }
 ],
 "metadata": {
  "kernelspec": {
   "display_name": "Python 3 (ipykernel)",
   "language": "python",
   "name": "python3"
  },
  "language_info": {
   "codemirror_mode": {
    "name": "ipython",
    "version": 3
   },
   "file_extension": ".py",
   "mimetype": "text/x-python",
   "name": "python",
   "nbconvert_exporter": "python",
   "pygments_lexer": "ipython3",
   "version": "3.8.19"
  }
 },
 "nbformat": 4,
 "nbformat_minor": 5
}
