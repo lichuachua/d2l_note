{
 "cells": [
  {
   "cell_type": "markdown",
   "id": "c07b139c",
   "metadata": {},
   "source": [
    "# 本节内容摘要"
   ]
  },
  {
   "attachments": {},
   "cell_type": "markdown",
   "id": "0c33c128",
   "metadata": {},
   "source": [
    "可能比权重衰退更好\n",
    "\n",
    "\n",
    "### 1.动机\n",
    "\n",
    "+ 一个好的模型需要对输入数据的扰动鲁棒（健壮性）\n",
    "\n",
    "实现模型这一能力的方式\n",
    "+ 使用有噪音的数据。\n",
    "+ 丢弃法：在层之间加入噪音。\n",
    "\n",
    "\n",
    "### 2.无偏差的加入噪音\n",
    "加入噪音的原则\n",
    "+ 虽然我加了噪音，但不要改变我的期望，实际上我的值还是对的\n",
    "\n",
    "+ 丢弃法对每个元素作扰动\n",
    "\n",
    "+ 能够满足加入噪音的期望相同原则\n",
    "\n",
    "\n",
    "### 3.使用丢弃法\n",
    "\n",
    "+ 通常将丢弃法作用在隐藏全连接层的输出上\n",
    "\n",
    "\n",
    "+ 随机选中某些神经元将其输出置位0，因此模型不会过分依赖某些神经元\n",
    "\n",
    "\n",
    "### 4. 推理中的丢弃法\n",
    "\n",
    "+ 正则项（丢弃法）仅在训练中使用：影响模型参数的更新，预测/推理时不再使用（直接返回输入）\n",
    "\n",
    "### 5.总结\n",
    "\n",
    "+ 丢弃法将一些输出项随机置0来控制模型复杂度\n",
    "+ 常作用在多层感知机的隐藏层输出上\n",
    "+ 丢弃概率是控制模型复杂度的超参数（常取0.9，0.5，0.1）"
   ]
  },
  {
   "cell_type": "markdown",
   "id": "465f94e9",
   "metadata": {},
   "source": [
    "# 讲义"
   ]
  },
  {
   "cell_type": "code",
   "execution_count": 1,
   "id": "2463c9c9",
   "metadata": {},
   "outputs": [
    {
     "data": {
      "text/html": [
       "\n",
       "        <iframe\n",
       "            width=\"1100\"\n",
       "            height=\"600\"\n",
       "            src=\"../PPT/part-0_17.pdf\"\n",
       "            frameborder=\"0\"\n",
       "            allowfullscreen\n",
       "            \n",
       "        ></iframe>\n",
       "        "
      ],
      "text/plain": [
       "<IPython.lib.display.IFrame at 0x1095d9640>"
      ]
     },
     "metadata": {},
     "output_type": "display_data"
    }
   ],
   "source": [
    "from IPython.display import display, IFrame\n",
    "\n",
    "# 使用IFrame将PDF文件嵌入到Notebook中\n",
    "pdf_path = \"../PPT/part-0_17.pdf\"\n",
    "display(IFrame(pdf_path, width=1100, height=600))"
   ]
  },
  {
   "cell_type": "code",
   "execution_count": null,
   "id": "85a1f04a",
   "metadata": {},
   "outputs": [],
   "source": []
  }
 ],
 "metadata": {
  "kernelspec": {
   "display_name": "Python 3 (ipykernel)",
   "language": "python",
   "name": "python3"
  },
  "language_info": {
   "codemirror_mode": {
    "name": "ipython",
    "version": 3
   },
   "file_extension": ".py",
   "mimetype": "text/x-python",
   "name": "python",
   "nbconvert_exporter": "python",
   "pygments_lexer": "ipython3",
   "version": "3.8.19"
  }
 },
 "nbformat": 4,
 "nbformat_minor": 5
}
