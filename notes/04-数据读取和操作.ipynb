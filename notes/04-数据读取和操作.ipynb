{
 "cells": [
  {
   "cell_type": "markdown",
   "id": "c149dcb2-e80c-4cb9-86ad-b2dff4dc0731",
   "metadata": {},
   "source": [
    "# 本节内容摘要\n"
   ]
  },
  {
   "cell_type": "markdown",
   "id": "45112be2-1cba-43a4-a4c3-398be93c66f7",
   "metadata": {},
   "source": [
    "数据的基本操作和读取"
   ]
  },
  {
   "cell_type": "markdown",
   "id": "32ebe506-3e99-4113-9d31-81af98929a9c",
   "metadata": {},
   "source": [
    "# 讲义"
   ]
  },
  {
   "cell_type": "code",
   "execution_count": 5,
   "id": "af510d36-99c5-46be-a1ac-24135b51c7f6",
   "metadata": {},
   "outputs": [
    {
     "data": {
      "text/html": [
       "\n",
       "        <iframe\n",
       "            width=\"1100\"\n",
       "            height=\"600\"\n",
       "            src=\"../PPT/part-0_4.pdf\"\n",
       "            frameborder=\"0\"\n",
       "            allowfullscreen\n",
       "            \n",
       "        ></iframe>\n",
       "        "
      ],
      "text/plain": [
       "<IPython.lib.display.IFrame at 0x10413af40>"
      ]
     },
     "metadata": {},
     "output_type": "display_data"
    }
   ],
   "source": [
    "from IPython.display import display, IFrame\n",
    "\n",
    "# 使用IFrame将PDF文件嵌入到Notebook中\n",
    "pdf_path = \"../PPT/part-0_4.pdf\"\n",
    "display(IFrame(pdf_path, width=1100, height=600))\n"
   ]
  },
  {
   "cell_type": "markdown",
   "id": "d445ecd7-4490-4329-aa59-2fbbeda4cec7",
   "metadata": {},
   "source": []
  }
 ],
 "metadata": {
  "kernelspec": {
   "display_name": "Python 3 (ipykernel)",
   "language": "python",
   "name": "python3"
  },
  "language_info": {
   "codemirror_mode": {
    "name": "ipython",
    "version": 3
   },
   "file_extension": ".py",
   "mimetype": "text/x-python",
   "name": "python",
   "nbconvert_exporter": "python",
   "pygments_lexer": "ipython3",
   "version": "3.8.19"
  }
 },
 "nbformat": 4,
 "nbformat_minor": 5
}
